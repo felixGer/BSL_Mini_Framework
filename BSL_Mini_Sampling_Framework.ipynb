{
 "cells": [
  {
   "cell_type": "markdown",
   "metadata": {},
   "source": [
    "# Bayesian Synthetic Likelihood (BSL) \n",
    "\n",
    "**A mini sampling Framework in Python**"
   ]
  },
  {
   "cell_type": "markdown",
   "metadata": {},
   "source": [
    "## I.Background on BSL"
   ]
  },
  {
   "cell_type": "markdown",
   "metadata": {},
   "source": [
    "BSL is a recent method [Drovandi2018] that enables to sample from an **approximate posterior distributions** from model DGP's with **intractable likelihoods**.\n",
    "\n",
    "\\begin{align*}\n",
    "p\\left(\\theta \\mid y\\right)  \\propto \\overbrace{p(y \\mid \\theta)}^\\text{intractable} p(\\theta) \n",
    "\\end{align*}\n",
    "\n",
    "\n",
    "Such models may be seen as \"black boxes\" that can generate different samples of simulated data for given input parameters (no knowledge of the likelihood function!):"
   ]
  },
  {
   "cell_type": "markdown",
   "metadata": {},
   "source": [
    "<br>\n",
    "<br>\n",
    "<img src=\"Illust/DGP.png\"  width=\"800\" /> "
   ]
  },
  {
   "cell_type": "markdown",
   "metadata": {},
   "source": [
    "### Approximation 1:\n",
    "In order to circumvent a \"curse-of-dimensionality\" issue, BSL makes use of **summary statistics** instead of using the raw data. Therefore, BSL aims at sampling from:\n",
    "\\begin{align*}\n",
    "p(\\theta  \\mid \\boldsymbol{s_{y}}) \\propto \\overbrace{p\\left(\\boldsymbol{s_{y}} \\mid \\theta\\right)}^\\text{intractable} p(\\theta)\n",
    "\\end{align*}"
   ]
  },
  {
   "cell_type": "markdown",
   "metadata": {},
   "source": [
    "### Approximation 2: \n",
    "BSL  approximates the likelihood of the summary statistic, $p\\left(s_{y} \\mid \\theta\\right)$ with a **normal pdf**:\n",
    "\\begin{align*}\n",
    " p\\left(s_{y} \\mid \\theta\\right) \\approx p_{A}\\left(s_{y} \\mid \\theta\\right) = \\mathcal{N}\\big(s_{y} ; \\overbrace{\\mu(\\theta), \\Sigma(\\theta)}^\\text{Unknown} \\big) \n",
    "\\end{align*}"
   ]
  },
  {
   "cell_type": "markdown",
   "metadata": {},
   "source": [
    "### Approximation 3:\n",
    "For a given $\\theta^*$,  $\\mu(\\theta^*), \\Sigma(\\theta^*)$ can be estimated, yielding :\n",
    "$\\hat{p}(s_{y} \\mid \\theta^* ) = \\mathcal{N}\\left(s_{y} ; \\mu_{\\boldsymbol{n}}(\\theta^*), \\Sigma_{\\boldsymbol{n}}(\\theta^*)\\right)$.\n",
    "\n",
    "BSL uses this estimation within a **Pseudo-Marginal Metropolis Hastings (PMMH) algorithm** [AndrieuRoberts2009]  that targets: \n",
    "\n",
    "\n",
    "\\begin{align*}\n",
    "p_{A, n}\\left(\\theta \\mid s_{y}\\right) \\propto &  \\underbrace{p_{A, n}\\left(s_{y} \\mid \\theta\\right)} p(\\theta)  \\\\\n",
    " & p_{A, n}\\left(s_{y} \\mid \\theta\\right)  = \\mathbb{E}\\big[\\hat{p}(s_{y} \\mid \\theta ) \\big] = \\int_{\\mathrm{S}^{n}} \\mathcal{N}\\left(s_{y} ; \\mu_{n}(\\theta), \\Sigma_{n}(\\theta)\\right) \\prod_{i=1}^{n} p\\left(s_{i} \\mid \\theta\\right) d s_{1: n} \\neq p_{A}\\left(s_{y} \\mid \\theta\\right)\n",
    "\\end{align*} "
   ]
  },
  {
   "cell_type": "markdown",
   "metadata": {},
   "source": [
    "## II.The Algorihm"
   ]
  },
  {
   "cell_type": "markdown",
   "metadata": {},
   "source": [
    "<br>\n",
    "<br>\n",
    "<img src=\"Illust/Full_PMMH_2.png\" width = \"800\" /> "
   ]
  },
  {
   "cell_type": "markdown",
   "metadata": {},
   "source": [
    "## III. Implementation\n",
    "\n",
    "**Presentation of a flexible framework to sample from BSL's approximate posterior**\n",
    "\n",
    "The following code enables to sample from BSL's approximate posterior and allows the user to specify:\n",
    "* the model to be simulated from\n",
    "* the summary statistics to be taken into account\n",
    "* the prior\n",
    "* a number of parameters (e.g the scale parameters in the proposal distribution)\n",
    "\n",
    "This is enabled by the following coding structure:"
   ]
  },
  {
   "cell_type": "markdown",
   "metadata": {},
   "source": [
    "<br>\n",
    "<br>\n",
    "<img src=\"Illust/Illustration code struktur.png\" width = \"800\" /> "
   ]
  },
  {
   "cell_type": "markdown",
   "metadata": {},
   "source": [
    "By this means it is possible to sample from BSL's approximate posterior. The final BSL_MCMC_Class also provides diagnostic  and plotting functions for the BSL results"
   ]
  },
  {
   "cell_type": "markdown",
   "metadata": {},
   "source": [
    "**All functionnalities are Based on a small number of elementary packages:**"
   ]
  },
  {
   "cell_type": "code",
   "execution_count": 3,
   "metadata": {},
   "outputs": [],
   "source": [
    "## Packages ###\n",
    "#elementary mathematical / statistical operations:\n",
    "import numpy as np\n",
    "import numpy.random as rd\n",
    "import scipy\n",
    "import scipy.stats\n",
    "import pandas as pd\n",
    "\n",
    "#plotting:\n",
    "import matplotlib.pyplot as plt\n",
    "import seaborn as sns\n",
    "\n",
    "#utility to see time per iteration:\n",
    "from tqdm import tqdm\n",
    "\n",
    "# to save results\n",
    "import pickle "
   ]
  },
  {
   "cell_type": "markdown",
   "metadata": {},
   "source": [
    "### III. 1 The Model Class"
   ]
  },
  {
   "cell_type": "markdown",
   "metadata": {},
   "source": [
    "The Model Class takes as initialization input:\n",
    "* A **Model Function** specifying the underlying model which will make n simulations of size t \n",
    "* The **initial DGP-Model parameters** for later use in the BSL MCMC algorithm\n",
    "* The **parameter names**\n",
    "\n",
    "Once these have been set, the size of the simulations, **n** and **t** can be set via the **\".set_simulation_size(t,n)\"** method. \n",
    "Finally, one can simulate from the model via the **\".simulate()\"** method."
   ]
  },
  {
   "cell_type": "markdown",
   "metadata": {},
   "source": [
    "**Model Class:**"
   ]
  },
  {
   "cell_type": "code",
   "execution_count": 2,
   "metadata": {},
   "outputs": [],
   "source": [
    "#Model class\n",
    "class Model:\n",
    "    def __init__(self, model_f, init_params, param_names):\n",
    "        self.init_params = np.array(init_params)\n",
    "        self.param_names =  param_names\n",
    "        self.model= model_f\n",
    "        \n",
    "    def set_simulation_size(self, t, n):\n",
    "        self.t = t\n",
    "        self.n = n\n",
    "        \n",
    "    def simulate(self, params):\n",
    "        return(self.model(params, self.n, self.t))"
   ]
  },
  {
   "cell_type": "markdown",
   "metadata": {},
   "source": [
    "**Model Functions (others can be added):**"
   ]
  },
  {
   "cell_type": "code",
   "execution_count": 3,
   "metadata": {},
   "outputs": [],
   "source": [
    "#Model function of interest: \n",
    "def Ricker_f(params, n, t): \n",
    "        #returns array with simulation data. 1 column per simulation, 1 row per observation\n",
    "        N_t_matrix = [np.array([1]*n)]\n",
    "        Poisson = []\n",
    "        errors = rd.normal(0, params[1], t*n).reshape(t,n)\n",
    "        for i in range(t):\n",
    "            N_t_next = np.exp(params[0])*N_t_matrix[i]*np.exp(-N_t_matrix[i] + errors[i, :])\n",
    "            N_t_matrix.append(N_t_next)\n",
    "            Poisson.append(rd.poisson(lam= params[2]*N_t_next))\n",
    "        return np.array(Poisson)\n",
    "    \n",
    "##following model not used here  \n",
    "def MA_Model(params, n, t):\n",
    "        #returns array with simulation data. 1 column per simulation, 1 row per observation\n",
    "        w_t = np.array([0,0]*n).reshape([2, n])\n",
    "        w_t = np.append(w_t, rd.normal(0, 0.1, t*n).reshape(t,n), axis = 0)\n",
    "        coefs = np.array(params.copy())\n",
    "        coefs = np.insert(coefs, 0, 1)\n",
    "        output = np.apply_along_axis(lambda m: np.convolve(m,coefs, mode='valid'), axis=0, arr=w_t)   \n",
    "        return np.array(output)"
   ]
  },
  {
   "cell_type": "markdown",
   "metadata": {},
   "source": [
    "**DEMO:**      "
   ]
  },
  {
   "cell_type": "code",
   "execution_count": 4,
   "metadata": {},
   "outputs": [],
   "source": [
    "#Define the model class: \n",
    "Ricker_Model = Model(model_f = Ricker_f, init_params=[2, 0.15, 15], param_names=[\"log(r)\", \"Sigma\", \"Phi\"])\n",
    "Ricker_Model.set_simulation_size(t = 50, n = 1000)\n",
    "Ricker_data = Ricker_Model.simulate([3.8, 0.3, 10])        "
   ]
  },
  {
   "cell_type": "code",
   "execution_count": 5,
   "metadata": {},
   "outputs": [
    {
     "name": "stdout",
     "output_type": "stream",
     "text": [
      "[[190 102 125 ... 177 114  72]\n",
      " [  0   0   0 ...   0   0   0]\n",
      " [  0   5   2 ...   0   0  27]\n",
      " ...\n",
      " [  1  64  15 ...  39   0   0]\n",
      " [102   4  98 ...  38   0   0]\n",
      " [  1 148   0 ...   9   0   0]]\n"
     ]
    }
   ],
   "source": [
    "# display the n simulations of length t\n",
    "print(Ricker_data)"
   ]
  },
  {
   "cell_type": "code",
   "execution_count": 6,
   "metadata": {},
   "outputs": [
    {
     "data": {
      "image/png": "[encoded data removed]",
      "text/plain": [
       "<Figure size 432x288 with 3 Axes>"
      ]
     },
     "metadata": {
      "needs_background": "light"
     },
     "output_type": "display_data"
    }
   ],
   "source": [
    "#plot the first 3 simulations:\n",
    "Ricker_data_df =  pd.DataFrame(Ricker_data[:,:3], columns = [\"Y_t__Simul_1\", \"Y_t__Simul_2\", \"Y_t__Simul_3\"])\n",
    "fig, axs = plt.subplots(nrows=3)\n",
    "for i in range(3):\n",
    "    sns.lineplot(ax = axs[i], data=Ricker_data_df[\"Y_t__Simul_\"+ str(i+1)])\n",
    "    if i < 2:\n",
    "        axs[i].xaxis.set_ticklabels([])"
   ]
  },
  {
   "cell_type": "markdown",
   "metadata": {},
   "source": [
    "### III. 2. The Summary Statistic Class"
   ]
  },
  {
   "cell_type": "markdown",
   "metadata": {},
   "source": [
    "The **Summary statistics class** takes as input a number of **Summary Statistics Functions**. These functions can output either one (therefore a vector (n, 1), e.g for the mean) or k summary statistics per simulation (therefore a matrix of size (n, k), e.g Autoregression coefficients).\n",
    "\n",
    "The summary statistic class enables to compute all these summary statistics \"at once\", via the **\".compute()\"** method."
   ]
  },
  {
   "cell_type": "markdown",
   "metadata": {},
   "source": [
    "**Summary Statistics Class**"
   ]
  },
  {
   "cell_type": "code",
   "execution_count": 7,
   "metadata": {},
   "outputs": [],
   "source": [
    "class Summary_Stats:  \n",
    "    \n",
    "    def __init__(self, list_of_summary_stats_functions):\n",
    "        self.list_of_summary_stats_functions = list_of_summary_stats_functions\n",
    "        \n",
    "    def compute(self, observations):\n",
    "        return np.column_stack([function(observations) for function in self.list_of_summary_stats_functions]).T"
   ]
  },
  {
   "cell_type": "markdown",
   "metadata": {},
   "source": [
    "**Summary Statistics Functions (add additional functions here in order to use in BSL):**"
   ]
  },
  {
   "cell_type": "code",
   "execution_count": 8,
   "metadata": {},
   "outputs": [],
   "source": [
    "def Mean(observations):\n",
    "   return np.mean(observations, axis= 0)\n",
    "\n",
    "def Std(observations):\n",
    "    return np.std(observations, axis= 0)\n",
    "\n",
    "class Autocorrelation_k:\n",
    "\n",
    "    def __init__(self, order):\n",
    "        self.order = order\n",
    "    \n",
    "    def compute(self, observations): \n",
    "        #returns array with summary statistics. 1 column per simulation, 1 row per summary statistic\n",
    "        observations = pd.DataFrame(observations)\n",
    "        output = observations.apply(lambda x: x.autocorr(self.order), axis = 0).to_numpy()\n",
    "        if np.isnan(output).any():\n",
    "            raise ValueError('error')\n",
    "        return  output if len(output) > 1 else output[0]\n",
    "\n",
    "def N_Zeroes_Observed(observations):\n",
    "    return observations.shape[0] - np.count_nonzero(observations, axis = 0)\n",
    "\n",
    "# autoregression with \"powers\"\n",
    "def autoregression_coefficients(observations):\n",
    "    \n",
    "    if observations.ndim == 1:\n",
    "        Y = np.array([np.power(observations[1:], 0.3)]).T\n",
    "        obs_t_1_to03 = np.power(observations[:-1], 0.3)\n",
    "        obs_t_1_to06 = np.power(observations[:-1], 0.6)\n",
    "        X = np.array([obs_t_1_to03, obs_t_1_to06]).T\n",
    "        XTX = np.matmul(X.T,X)\n",
    "        XTX_inv = np.linalg.inv(XTX)\n",
    "        XTY = np.matmul(X.T,Y)\n",
    "        Beta = np.matmul(XTX_inv, XTY)\n",
    "        return(Beta.T)\n",
    "        \n",
    "        \n",
    "    else:\n",
    "        #create regression target variables in appropriate 3 matrix\n",
    "        Y = np.array([np.power(observations[1:, :], 0.3)]).transpose(2,1,0)\n",
    "        #create regression covariates\n",
    "        obs_t_1_to03 = np.power(observations[:-1, :], 0.3)\n",
    "        obs_t_1_to06 = np.power(observations[:-1, :], 0.6)\n",
    "    \n",
    "        #stack in 3d array\n",
    "        X = np.array([obs_t_1_to03, obs_t_1_to06]).transpose(2,1,0)\n",
    "    \n",
    "        #create X'X and invert\n",
    "        XTX = np.matmul(X.transpose(0,2,1),X)\n",
    "        XTX_inv = np.linalg.inv(XTX)\n",
    "    \n",
    "        #create X'Y\n",
    "        XTY = np.matmul(X.transpose(0,2,1),Y)\n",
    "\n",
    "        #compute regression coefs Beta = inv(X'X).X'Y:\n",
    "        Beta = np.matmul(XTX_inv, XTY)\n",
    "        return(Beta[:,:,0])\n",
    "    \n",
    "def cubic_regression_coefficients(observations):\n",
    "    if observations.ndim == 1:\n",
    "        diff = (observations[1:] - observations[:-1]).T\n",
    "        Y_t =  np.array([diff[1:]]).T\n",
    "        ones = np.ones(diff.shape)[:-1]\n",
    "        Y_t_1 = diff[:-1]\n",
    "        Y_t_1_to2 = np.power(Y_t_1, 2)\n",
    "        Y_t_1_to3 = np.power(Y_t_1, 3)\n",
    "        X = np.array([ones, Y_t_1, Y_t_1_to2, Y_t_1_to3]).T\n",
    "        XTX = np.matmul(X.T,X)\n",
    "        XTX_inv = np.linalg.inv(XTX)\n",
    "        XTY = np.matmul(X.T,Y_t)\n",
    "        Beta = np.matmul(XTX_inv, XTY)\n",
    "        return(Beta.T)\n",
    "        \n",
    "    else:\n",
    "        #create regression target variables in appropriate 3 matrix\n",
    "        diff = np.array(observations[1:, :] - observations[:-1, :])\n",
    "        Y_t =  np.array([diff[1:,:]]).transpose(2,1,0)\n",
    "        #create regression covariates\n",
    "        ones = np.ones(diff.shape)[:-1, :]\n",
    "        Y_t_1 = diff[:-1, :]\n",
    "        Y_t_1_to2 = np.power(Y_t_1, 2)\n",
    "        Y_t_1_to3 = np.power(Y_t_1, 3)\n",
    "    \n",
    "        #stack in 3d array\n",
    "        X = np.array([ones, Y_t_1, Y_t_1_to2, Y_t_1_to3]).transpose(2,1,0)\n",
    "    \n",
    "        #create X'X and invert\n",
    "        XTX = np.matmul(X.transpose(0,2,1),X)\n",
    "        XTX_inv = np.linalg.inv(XTX)\n",
    "    \n",
    "        #create X'Y\n",
    "        XTY = np.matmul(X.transpose(0,2,1),Y_t)\n",
    "\n",
    "        #compute regression coefs Beta = inv(X'X).X'Y:\n",
    "        Beta = np.matmul(XTX_inv, XTY)\n",
    "        return(Beta[:,:,0])"
   ]
  },
  {
   "cell_type": "markdown",
   "metadata": {},
   "source": [
    "**DEMO**"
   ]
  },
  {
   "cell_type": "markdown",
   "metadata": {},
   "source": [
    "Create instance of summary stats:"
   ]
  },
  {
   "cell_type": "code",
   "execution_count": 9,
   "metadata": {},
   "outputs": [],
   "source": [
    "Summary_Stats_names = [\"Mean\", \"N_Zero\"]+ [\"cub_reg_coef\" + str(i) for i in range(4)]+ [\"autoreg_coef\" + str(i) for i in range(2)] + [\"Autocor_\"+str(x) for x in range(1, 6)]\n",
    "Summary_Stats_Instance = Summary_Stats([Mean, N_Zeroes_Observed, cubic_regression_coefficients, autoregression_coefficients] +[Autocorrelation_k(x).compute for x in range(1, 6)])\n"
   ]
  },
  {
   "cell_type": "markdown",
   "metadata": {},
   "source": [
    "Compute with previously simulated data"
   ]
  },
  {
   "cell_type": "code",
   "execution_count": 10,
   "metadata": {},
   "outputs": [],
   "source": [
    "#create summary stats for all n simulations (size: (n . k))\n",
    "sum_stats_demo = Summary_Stats_Instance.compute(Ricker_data)"
   ]
  },
  {
   "cell_type": "markdown",
   "metadata": {},
   "source": [
    "Plot"
   ]
  },
  {
   "cell_type": "code",
   "execution_count": 11,
   "metadata": {},
   "outputs": [
    {
     "data": {
      "image/png": "[encoded data removed]",
      "text/plain": [
       "<Figure size 432x288 with 12 Axes>"
      ]
     },
     "metadata": {
      "needs_background": "light"
     },
     "output_type": "display_data"
    }
   ],
   "source": [
    "nrows= 3\n",
    "ncols = 4\n",
    "import matplotlib.ticker as ticker\n",
    "fig, axs = plt.subplots(nrows=nrows, ncols = ncols)\n",
    "fig.tight_layout()\n",
    "index = np.array(list(range(nrows*ncols))).reshape(nrows,ncols)\n",
    "for i in range(nrows):\n",
    "    for j in range(ncols):    \n",
    "        axs[i,j].locator_params(nbins=2)\n",
    "        if index[i,j] <= 11:\n",
    "            sns.histplot(data = sum_stats_demo[index[i,j],:], ax= axs[i, j] )\n",
    "            axs[i,j].set_title(Summary_Stats_names[index[i,j]])\n",
    "            axs[i,j].yaxis.set_label_text('')\n",
    "            axs[i,j].xaxis.set_major_locator(ticker.MaxNLocator(1))\n",
    "            axs[i,j].xaxis.set_minor_locator(ticker.MaxNLocator(1))\n",
    "        else:\n",
    "            axs[i,j].axis(\"off\")\n",
    "fig.savefig('distrib.pdf', format='pdf', bbox_inches='tight')"
   ]
  },
  {
   "cell_type": "markdown",
   "metadata": {},
   "source": [
    "## III. 3. The Prior Function "
   ]
  },
  {
   "cell_type": "markdown",
   "metadata": {},
   "source": [
    "Not much to say here: The prior function should take a number of parameters equal to the pre-specified model. It outputs a scalar.\n",
    "In the following only the improper prior used in the application is specified (if needed other priors could be specified here):"
   ]
  },
  {
   "cell_type": "code",
   "execution_count": 12,
   "metadata": {},
   "outputs": [],
   "source": [
    "def Improper_Prior(x):\n",
    "    #returns value of multivariate prior pdf at x\n",
    "    prior_logr = 1\n",
    "    prior_Sigma = 1 if x[1] > 0 else 0\n",
    "    prior_Phi = 1 if x[2] > 0 else 0\n",
    "    return prior_logr * prior_Sigma * prior_Phi"
   ]
  },
  {
   "cell_type": "markdown",
   "metadata": {},
   "source": [
    "## III.4.  The BSL MCMC Class"
   ]
  },
  {
   "cell_type": "markdown",
   "metadata": {},
   "source": [
    "The BSL_MCMC_Sampler takes 4 Initialization Inputs:\n",
    "* **real_obs_a:** The true / observed data \n",
    "* **Model_c:** A Model_Class instance (already initialized, as in **I. Model_Class**)\n",
    "* **summary_statistic_c** A Summary_Stats instance (already initialized, as in **II. Summary Statistics Class** )\n",
    "* **prior_f:** A prior function (such as in **III. Prior Functions**) \n",
    "\n",
    "After initialization, one can sample from the approximate posterior via the **\".sample(scaler_parameter, T, n)\"** method, after having specifie the following parameters:\n",
    "\n",
    "* **scaler_parameter**: covariance matrix of the proposal distribution (**NOTE:** the proposal distribution class is already defined  in the BSL_MCMC_sampler_class)\n",
    "* **T:** Number of iterations\n",
    "* **n:** Number of simulations per iteration\n",
    "\n",
    "After sampling, one can use the following **plotting functions** provided as methods of the  **BSL_MCMC_Sampler_class**:\n",
    "* **plot_posterior(self, burn_in = 0):** Enables to plot the posterior kernel density estimations\n",
    "* **plot_trace():** Enables to plot the sampling trace\n",
    "\n",
    "Finally, diagnostic values such as the **ESS**, the **normalized ESS** (see Price et. al 2018), or the **sampling rate** can be retrieved as attributes of the instantiated class.\n",
    "\n",
    "\n"
   ]
  },
  {
   "cell_type": "code",
   "execution_count": 13,
   "metadata": {},
   "outputs": [],
   "source": [
    "class BSL_MCMC_sampler:\n",
    "    \n",
    "    def __init__(self,real_obs_a, Model_c, summary_statistic_c, prior_f):\n",
    "        self.real_obs_a = real_obs_a\n",
    "        self.Model_c = Model_c\n",
    "        self.summary_statistic_c = summary_statistic_c\n",
    "        self.prior_f= prior_f\n",
    "\n",
    "    def density_estimation_f(self,observations): #see equation 3 in paper # observations by column\n",
    "        mu = np.mean(observations, axis = 0)\n",
    "        sigma = np.cov(observations.T, ddof =1) \n",
    "        density_estimate_f = scipy.stats.multivariate_normal(mu, sigma, allow_singular=True)\n",
    "        return density_estimate_f   \n",
    "    \n",
    "    class proposal_distribution_class:\n",
    "        def __init__(self, scale_parameter, theta_i_1):\n",
    "            self.scale_parameter = scale_parameter\n",
    "            self.theta_i_1       = theta_i_1\n",
    "            self.theta_star      = rd.multivariate_normal(self.theta_i_1, self.scale_parameter)\n",
    "        def theta_i_1_given_theta_star(self):\n",
    "            return(scipy.stats.multivariate_normal(mean = self.theta_star, cov = self.scale_parameter).pdf(self.theta_i_1))\n",
    "        def theta_star_given_theta_i_1(self):\n",
    "            return(scipy.stats.multivariate_normal(mean = self.theta_i_1, cov =self.scale_parameter).pdf(self.theta_star))\n",
    "\n",
    "    def sample(self,  scale_parameter, T, n):\n",
    "        #length of observed data\n",
    "        t = len(self.real_obs_a)\n",
    "        self.scale_parameter = scale_parameter\n",
    "        #set size of model simulations t:length of 1 series, n: number of iid simulations\n",
    "        self.Model_c.set_simulation_size(t, n)\n",
    "    \n",
    "        theta_i_1 = self.Model_c.init_params\n",
    "        sum_stat_theta_i_1 = self.summary_statistic_c.compute(self.Model_c.simulate(theta_i_1))\n",
    "        thetas = [theta_i_1]\n",
    "        count_acceptance = 0 # count number of times the sample got accepted\n",
    "    \n",
    "        for i in tqdm(range(T)):\n",
    "            proposal_distribution = self.proposal_distribution_class(scale_parameter, theta_i_1)\n",
    "            theta_star = proposal_distribution.theta_star\n",
    "\n",
    "            #condition on theta star having non-zero probability --> we get reed of problems pertaining to the domain of definition of parameters (e.g Variance<0) \n",
    "            if self.prior_f(theta_star) > 0:\n",
    "                try:\n",
    "                    simulated_data = self.Model_c.simulate(theta_star)\n",
    "                    sum_stat_theta_star = self.summary_statistic_c.compute(simulated_data)\n",
    "                except: \n",
    "                    print(\"Warning: Error in the summary statistics computation. (likely cause: singular matrix in regression). Ignoring sample\")\n",
    "                else: \n",
    "    \n",
    "                #compute approximate densities:\n",
    "                    try:\n",
    "                        density_estimate_theta_i_1 = self.density_estimation_f(sum_stat_theta_i_1.T).pdf(self.summary_statistic_c.compute(self.real_obs_a).T)\n",
    "                        density_estimate_theta_star = self.density_estimation_f(sum_stat_theta_star.T).pdf(self.summary_statistic_c.compute(self.real_obs_a).T)\n",
    "                    except: \n",
    "                        print(\"numerical issues - pdf returning value 0\")\n",
    "                    else:  \n",
    "                    #compute priors' values:\n",
    "                        prior_theta_i_1 = self.prior_f(theta_i_1)\n",
    "                        prior_theta_star = self.prior_f(theta_star)\n",
    "        \n",
    "                    #compute values of proposal_disribution_f:\n",
    "                        proposal_theta_star_given_theta_i = proposal_distribution.theta_star_given_theta_i_1()\n",
    "                        proposal_theta_theta_i_given_star = proposal_distribution.theta_i_1_given_theta_star()\n",
    "        \n",
    "                    #compute r\n",
    "                        joint_likelihood_ratio_nom = density_estimate_theta_star* prior_theta_star*proposal_theta_theta_i_given_star \n",
    "                        joint_likelihood_ratio_denom = density_estimate_theta_i_1* prior_theta_i_1*proposal_theta_star_given_theta_i\n",
    "                        \n",
    "                        if joint_likelihood_ratio_denom > 0 :\n",
    "                            r = np.min([1, joint_likelihood_ratio_nom / joint_likelihood_ratio_denom])\n",
    "                            \n",
    "                        else:\n",
    "                            #handle vanishingly small joint_likelihood_ratio_denom --> Numerical convenience\n",
    "                            r = 1\n",
    "                            print(\"Warning:\"+str(i) +\"r_denom has value 0 (due to approximation). The proposed parameter is skipped \")\n",
    "\n",
    "                        if r > rd.uniform([0,1])[0]:\n",
    "                            count_acceptance += 1\n",
    "                            theta_i_1 = theta_star\n",
    "                            sum_stat_theta_i_1 = sum_stat_theta_star\n",
    "                            thetas.append(theta_i_1)\n",
    "\n",
    "                        else:\n",
    "                            thetas.append(theta_i_1)\n",
    "\n",
    "            else:\n",
    "                thetas.append(theta_i_1)\n",
    "                    \n",
    "                \n",
    "        self.acceptance_rate = count_acceptance/(T) \n",
    "        self.drawn_samples = pd.DataFrame(data = thetas, columns = self.Model_c.param_names)\n",
    "        self.plot_posterior()\n",
    "        self.ESS_values = pd.DataFrame(data = self.drawn_samples.apply(lambda x: self.ESS_f(x)), index = self.Model_c.param_names, columns = [\"ESS\"])\n",
    "        self.Adjusted_ESS_values = self.ESS_values / n\n",
    "        self.Adjusted_ESS_values.columns = [\"Adjusted_ESS_values\"]\n",
    "        print(\"Acceptance_Rate:\" + str(self.acceptance_rate))\n",
    "        print(self.Adjusted_ESS_values)\n",
    "        print(self.ESS_values)\n",
    "        \n",
    "    #Compute Effective Sample Size \n",
    "    def ESS_f(self, samples, autocor_threshold= 0.05):\n",
    "        autocorr_k = samples.autocorr(1)\n",
    "        sum_autocorr = 0\n",
    "        i = 1\n",
    "        while autocorr_k > autocor_threshold:\n",
    "            sum_autocorr += autocorr_k \n",
    "            i += 1\n",
    "            autocorr_k = samples.autocorr(1+i)\n",
    "        return(samples.shape[0] / (1 + 2*sum_autocorr ))\n",
    "    \n",
    "    #plot posterior density estimates\n",
    "    def plot_posterior(self, burn_in = 0):\n",
    "        df = self.drawn_samples.iloc[burn_in:]\n",
    "        g = sns.PairGrid(df, diag_sharey=False)\n",
    "        g.map_upper(sns.scatterplot, s=15)\n",
    "        g.map_lower(sns.kdeplot, fill =True)\n",
    "        g.map_diag(sns.kdeplot, bw_adjust=2)\n",
    "      \n",
    "    #plot MCMC trace\n",
    "    def plot_trace(self):\n",
    "        sns.lineplot(data= self.drawn_samples)"
   ]
  },
  {
   "cell_type": "markdown",
   "metadata": {},
   "source": [
    "**Note** Many warnings might appear. Those were put in the script on purpose in order to inform about numerical issues (e.g singular marices in the regressions which might appear by \"chance\". Or the denominator of r being equal to zero due to approximations). Whenever such warnings appear, the algorithm skips to the next sample. This should not impact the final sampling too strongly (if only occuring a small fraction of times).\n",
    "\n",
    "**Results can be seen after warnings**"
   ]
  },
  {
   "cell_type": "code",
   "execution_count": 14,
   "metadata": {},
   "outputs": [
    {
     "name": "stderr",
     "output_type": "stream",
     "text": [
      "  0%|          | 6/5000 [00:00<07:35, 10.97it/s]"
     ]
    },
    {
     "name": "stdout",
     "output_type": "stream",
     "text": [
      "Warning:0r_denom has value 0 (due to approximation). The proposed parameter is skipped \n",
      "Warning:2r_denom has value 0 (due to approximation). The proposed parameter is skipped \n",
      "Warning:5r_denom has value 0 (due to approximation). The proposed parameter is skipped \n"
     ]
    },
    {
     "name": "stderr",
     "output_type": "stream",
     "text": [
      "\r",
      "  0%|          | 8/5000 [00:00<06:38, 12.53it/s]"
     ]
    },
    {
     "name": "stdout",
     "output_type": "stream",
     "text": [
      "Warning:7r_denom has value 0 (due to approximation). The proposed parameter is skipped \n",
      "Warning:8r_denom has value 0 (due to approximation). The proposed parameter is skipped \n"
     ]
    },
    {
     "name": "stderr",
     "output_type": "stream",
     "text": [
      "  0%|          | 12/5000 [00:00<06:16, 13.25it/s]"
     ]
    },
    {
     "name": "stdout",
     "output_type": "stream",
     "text": [
      "Warning:9r_denom has value 0 (due to approximation). The proposed parameter is skipped \n",
      "Warning:10r_denom has value 0 (due to approximation). The proposed parameter is skipped \n"
     ]
    },
    {
     "name": "stderr",
     "output_type": "stream",
     "text": [
      "\r",
      "  0%|          | 14/5000 [00:00<06:57, 11.96it/s]"
     ]
    },
    {
     "name": "stdout",
     "output_type": "stream",
     "text": [
      "Warning:12r_denom has value 0 (due to approximation). The proposed parameter is skipped \n",
      "Warning:13r_denom has value 0 (due to approximation). The proposed parameter is skipped \n",
      "Warning:14r_denom has value 0 (due to approximation). The proposed parameter is skipped \n"
     ]
    },
    {
     "name": "stderr",
     "output_type": "stream",
     "text": [
      "  0%|          | 18/5000 [00:01<07:40, 10.83it/s]"
     ]
    },
    {
     "name": "stdout",
     "output_type": "stream",
     "text": [
      "Warning:15r_denom has value 0 (due to approximation). The proposed parameter is skipped \n",
      "Warning:16r_denom has value 0 (due to approximation). The proposed parameter is skipped \n",
      "Warning:17r_denom has value 0 (due to approximation). The proposed parameter is skipped \n"
     ]
    },
    {
     "name": "stderr",
     "output_type": "stream",
     "text": [
      "\r",
      "  0%|          | 20/5000 [00:01<07:48, 10.62it/s]"
     ]
    },
    {
     "name": "stdout",
     "output_type": "stream",
     "text": [
      "Warning:18r_denom has value 0 (due to approximation). The proposed parameter is skipped \n",
      "Warning:19r_denom has value 0 (due to approximation). The proposed parameter is skipped \n",
      "Warning:20r_denom has value 0 (due to approximation). The proposed parameter is skipped \n"
     ]
    },
    {
     "name": "stderr",
     "output_type": "stream",
     "text": [
      "  0%|          | 24/5000 [00:01<08:03, 10.30it/s]"
     ]
    },
    {
     "name": "stdout",
     "output_type": "stream",
     "text": [
      "Warning:21r_denom has value 0 (due to approximation). The proposed parameter is skipped \n",
      "Warning:22r_denom has value 0 (due to approximation). The proposed parameter is skipped \n",
      "Warning:23r_denom has value 0 (due to approximation). The proposed parameter is skipped \n"
     ]
    },
    {
     "name": "stderr",
     "output_type": "stream",
     "text": [
      "  1%|          | 27/5000 [00:02<08:32,  9.71it/s]"
     ]
    },
    {
     "name": "stdout",
     "output_type": "stream",
     "text": [
      "Warning:24r_denom has value 0 (due to approximation). The proposed parameter is skipped \n",
      "Warning:25r_denom has value 0 (due to approximation). The proposed parameter is skipped \n",
      "Warning:26r_denom has value 0 (due to approximation). The proposed parameter is skipped \n"
     ]
    },
    {
     "name": "stderr",
     "output_type": "stream",
     "text": [
      "  1%|          | 30/5000 [00:02<08:43,  9.50it/s]"
     ]
    },
    {
     "name": "stdout",
     "output_type": "stream",
     "text": [
      "Warning:27r_denom has value 0 (due to approximation). The proposed parameter is skipped \n",
      "Warning:28r_denom has value 0 (due to approximation). The proposed parameter is skipped \n",
      "Warning:29r_denom has value 0 (due to approximation). The proposed parameter is skipped \n"
     ]
    },
    {
     "name": "stderr",
     "output_type": "stream",
     "text": [
      "  1%|          | 33/5000 [00:02<08:30,  9.73it/s]"
     ]
    },
    {
     "name": "stdout",
     "output_type": "stream",
     "text": [
      "Warning:30r_denom has value 0 (due to approximation). The proposed parameter is skipped \n",
      "Warning:31r_denom has value 0 (due to approximation). The proposed parameter is skipped \n",
      "Warning:32r_denom has value 0 (due to approximation). The proposed parameter is skipped \n"
     ]
    },
    {
     "name": "stderr",
     "output_type": "stream",
     "text": [
      "  1%|          | 35/5000 [00:03<08:28,  9.77it/s]"
     ]
    },
    {
     "name": "stdout",
     "output_type": "stream",
     "text": [
      "Warning:33r_denom has value 0 (due to approximation). The proposed parameter is skipped \n",
      "Warning:34r_denom has value 0 (due to approximation). The proposed parameter is skipped \n",
      "Warning:35r_denom has value 0 (due to approximation). The proposed parameter is skipped \n"
     ]
    },
    {
     "name": "stderr",
     "output_type": "stream",
     "text": [
      "  1%|          | 39/5000 [00:03<08:32,  9.68it/s]"
     ]
    },
    {
     "name": "stdout",
     "output_type": "stream",
     "text": [
      "Warning:36r_denom has value 0 (due to approximation). The proposed parameter is skipped \n"
     ]
    },
    {
     "name": "stderr",
     "output_type": "stream",
     "text": [
      "100%|██████████| 5000/5000 [07:03<00:00, 11.81it/s]\n"
     ]
    },
    {
     "name": "stdout",
     "output_type": "stream",
     "text": [
      "Acceptance_Rate:0.0892\n",
      "        Adjusted_ESS_values\n",
      "log(r)             0.939336\n",
      "Sigma              1.522765\n",
      "Phi                1.180775\n",
      "              ESS\n",
      "log(r)  46.966817\n",
      "Sigma   76.138254\n",
      "Phi     59.038748\n"
     ]
    },
    {
     "data": {
      "image/png": "[encoded data removed]",
      "text/plain": [
       "<Figure size 540x540 with 12 Axes>"
      ]
     },
     "metadata": {
      "needs_background": "light"
     },
     "output_type": "display_data"
    }
   ],
   "source": [
    "#simulate the true data (with length t = 200)\n",
    "Ricker_Model.set_simulation_size(t = 50, n = 1)\n",
    "y_data = Ricker_Model.simulate([3.8, 0.3, 10])    #define the true data\n",
    "\n",
    "Ricker_Demo = BSL_MCMC_sampler(y_data, \n",
    "                               Ricker_Model, #defined in I. RECAL\n",
    "                               Summary_Stats_Instance, # defined in II.\n",
    "                               Improper_Prior) # defined in III.\n",
    "\n",
    "scaling_parameter = [[0.05, 0, 0], [0, 0.01, 0],[0, 0, 0.25]]\n",
    "Ricker_Demo.sample(scaling_parameter, T =5000, n = 50)"
   ]
  },
  {
   "cell_type": "code",
   "execution_count": 20,
   "metadata": {},
   "outputs": [
    {
     "data": {
      "image/png": "[encoded data removed]",
      "text/plain": [
       "<Figure size 432x288 with 1 Axes>"
      ]
     },
     "metadata": {
      "needs_background": "light"
     },
     "output_type": "display_data"
    }
   ],
   "source": [
    "Ricker_Demo.plot_trace()"
   ]
  },
  {
   "cell_type": "markdown",
   "metadata": {},
   "source": [
    "As can be seen below, the modes of the posterior densities' of the parameters of interest (log(r), Sigma and Phi) lie relatively close to the true parameter values (3.8 , 0.3 and 10). For computational reasons only 5000 iterations were performed, but improvment is expected for additional sampling (as can be seen furter below, the Effective sampling size is still below 100)"
   ]
  },
  {
   "cell_type": "code",
   "execution_count": 25,
   "metadata": {},
   "outputs": [
    {
     "data": {
      "image/png": "[encoded data removed]",
      "text/plain": [
       "<Figure size 540x540 with 12 Axes>"
      ]
     },
     "metadata": {
      "needs_background": "light"
     },
     "output_type": "display_data"
    }
   ],
   "source": [
    "Ricker_Demo.plot_posterior(burn_in = 1000)"
   ]
  },
  {
   "cell_type": "code",
   "execution_count": 22,
   "metadata": {},
   "outputs": [
    {
     "data": {
      "text/html": [
       "<div>\n",
       "<style scoped>\n",
       "    .dataframe tbody tr th:only-of-type {\n",
       "        vertical-align: middle;\n",
       "    }\n",
       "\n",
       "    .dataframe tbody tr th {\n",
       "        vertical-align: top;\n",
       "    }\n",
       "\n",
       "    .dataframe thead th {\n",
       "        text-align: right;\n",
       "    }\n",
       "</style>\n",
       "<table border=\"1\" class=\"dataframe\">\n",
       "  <thead>\n",
       "    <tr style=\"text-align: right;\">\n",
       "      <th></th>\n",
       "      <th>ESS</th>\n",
       "    </tr>\n",
       "  </thead>\n",
       "  <tbody>\n",
       "    <tr>\n",
       "      <th>log(r)</th>\n",
       "      <td>46.966817</td>\n",
       "    </tr>\n",
       "    <tr>\n",
       "      <th>Sigma</th>\n",
       "      <td>76.138254</td>\n",
       "    </tr>\n",
       "    <tr>\n",
       "      <th>Phi</th>\n",
       "      <td>59.038748</td>\n",
       "    </tr>\n",
       "  </tbody>\n",
       "</table>\n",
       "</div>"
      ],
      "text/plain": [
       "              ESS\n",
       "log(r)  46.966817\n",
       "Sigma   76.138254\n",
       "Phi     59.038748"
      ]
     },
     "execution_count": 22,
     "metadata": {},
     "output_type": "execute_result"
    }
   ],
   "source": [
    "Ricker_Demo.ESS_values"
   ]
  },
  {
   "cell_type": "code",
   "execution_count": 23,
   "metadata": {},
   "outputs": [
    {
     "data": {
      "text/html": [
       "<div>\n",
       "<style scoped>\n",
       "    .dataframe tbody tr th:only-of-type {\n",
       "        vertical-align: middle;\n",
       "    }\n",
       "\n",
       "    .dataframe tbody tr th {\n",
       "        vertical-align: top;\n",
       "    }\n",
       "\n",
       "    .dataframe thead th {\n",
       "        text-align: right;\n",
       "    }\n",
       "</style>\n",
       "<table border=\"1\" class=\"dataframe\">\n",
       "  <thead>\n",
       "    <tr style=\"text-align: right;\">\n",
       "      <th></th>\n",
       "      <th>Adjusted_ESS_values</th>\n",
       "    </tr>\n",
       "  </thead>\n",
       "  <tbody>\n",
       "    <tr>\n",
       "      <th>log(r)</th>\n",
       "      <td>0.939336</td>\n",
       "    </tr>\n",
       "    <tr>\n",
       "      <th>Sigma</th>\n",
       "      <td>1.522765</td>\n",
       "    </tr>\n",
       "    <tr>\n",
       "      <th>Phi</th>\n",
       "      <td>1.180775</td>\n",
       "    </tr>\n",
       "  </tbody>\n",
       "</table>\n",
       "</div>"
      ],
      "text/plain": [
       "        Adjusted_ESS_values\n",
       "log(r)             0.939336\n",
       "Sigma              1.522765\n",
       "Phi                1.180775"
      ]
     },
     "execution_count": 23,
     "metadata": {},
     "output_type": "execute_result"
    }
   ],
   "source": [
    "Ricker_Demo.Adjusted_ESS_values"
   ]
  },
  {
   "cell_type": "code",
   "execution_count": 24,
   "metadata": {},
   "outputs": [
    {
     "data": {
      "text/plain": [
       "0.0892"
      ]
     },
     "execution_count": 24,
     "metadata": {},
     "output_type": "execute_result"
    }
   ],
   "source": [
    "Ricker_Demo.acceptance_rate"
   ]
  },
  {
   "cell_type": "markdown",
   "metadata": {},
   "source": [
    "# References:\n",
    "**Drovandi2018**: C. C. Drovandi et al. “Bayesian Synthetic Likelihood”. In: Journal of Computational and Graphical Statistics 27.1\n",
    "(2018), pp. 1–11\n",
    "\n",
    "**AndrieuRoberts2009**: C. Andrieu and G Roberts. “The Pseudo-Marginal Approach for Efficient Monte-Carlo Computations”. In: The\n",
    "Annals of Statistics 37.2 (2009), pp. 697–725"
   ]
  }
 ],
 "metadata": {
  "kernelspec": {
   "display_name": "Python 3",
   "language": "python",
   "name": "python3"
  },
  "language_info": {
   "codemirror_mode": {
    "name": "ipython",
    "version": 3
   },
   "file_extension": ".py",
   "mimetype": "text/x-python",
   "name": "python",
   "nbconvert_exporter": "python",
   "pygments_lexer": "ipython3",
   "version": "3.8.5"
  }
 },
 "nbformat": 4,
 "nbformat_minor": 4
}
